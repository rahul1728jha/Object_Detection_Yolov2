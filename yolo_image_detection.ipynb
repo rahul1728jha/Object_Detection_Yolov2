{
 "cells": [
  {
   "cell_type": "markdown",
   "metadata": {},
   "source": [
    "# Yolo Image Object Detection"
   ]
  },
  {
   "cell_type": "code",
   "execution_count": 1,
   "metadata": {},
   "outputs": [],
   "source": [
    "import cv2,os,scipy\n",
    "import warnings\n",
    "import numpy as np\n",
    "from matplotlib.pyplot import imshow\n",
    "warnings.filterwarnings('ignore')"
   ]
  },
  {
   "cell_type": "code",
   "execution_count": 2,
   "metadata": {},
   "outputs": [
    {
     "name": "stderr",
     "output_type": "stream",
     "text": [
      "Using TensorFlow backend.\n"
     ]
    }
   ],
   "source": [
    "from yolo_utils import read_classes, read_anchors, generate_colors,draw_boxes,preprocess_image\n",
    "from yad2k.models.keras_yolo import yolo_head\n",
    "from yolo_algo_computation import yolo_eval\n",
    "import tensorflow as tf\n",
    "from keras import backend as K\n",
    "from keras.models import load_model"
   ]
  },
  {
   "cell_type": "markdown",
   "metadata": {},
   "source": [
    "# Initialize the session and yolo models"
   ]
  },
  {
   "cell_type": "code",
   "execution_count": 3,
   "metadata": {},
   "outputs": [],
   "source": [
    "sess = K.get_session()\n",
    "class_names = read_classes(\"model_data/coco_classes.txt\")\n",
    "anchors = read_anchors(\"model_data/yolo_anchors.txt\")\n",
    "image_shape = (720., 1280.)    \n",
    "yolo_model = load_model(\"model_data/yolo.h5\")"
   ]
  },
  {
   "cell_type": "code",
   "execution_count": 4,
   "metadata": {
    "scrolled": true
   },
   "outputs": [],
   "source": [
    "yolo_outputs = yolo_head(yolo_model.output, anchors, len(class_names))\n",
    "scores, boxes, classes,boxes_before_nms = yolo_eval(yolo_outputs, image_shape)"
   ]
  },
  {
   "cell_type": "markdown",
   "metadata": {},
   "source": [
    "# Predict on images and transform the bounding boxes"
   ]
  },
  {
   "cell_type": "code",
   "execution_count": 5,
   "metadata": {},
   "outputs": [],
   "source": [
    "def predict(image_file):\n",
    "    image, image_data = preprocess_image(\"images_input/\" + image_file, model_image_size = (608, 608))\n",
    "    out_scores, out_boxes, out_classes,boxes_before_nms_out= sess.run([scores,boxes,classes,boxes_before_nms],\n",
    "        feed_dict={yolo_model.input:image_data, K.learning_phase(): 0}\n",
    "    )\n",
    "    final_boxes = (out_scores, out_boxes, out_classes)\n",
    "    return final_boxes,boxes_before_nms_out,image"
   ]
  },
  {
   "cell_type": "markdown",
   "metadata": {},
   "source": [
    "# Draw bounding boxes on images"
   ]
  },
  {
   "cell_type": "code",
   "execution_count": 6,
   "metadata": {},
   "outputs": [],
   "source": [
    "def draw_bounding_box(boxes,image,image_file,dir_name):\n",
    "    \n",
    "    colors = generate_colors(class_names)\n",
    "    out_scores, out_boxes, out_classes = boxes\n",
    "    \n",
    "    draw_boxes(image, out_scores, out_boxes, out_classes, class_names, colors)\n",
    "    image.save(os.path.join(dir_name, image_file), quality=90)\n",
    "    output_image = scipy.misc.imread(os.path.join(dir_name, image_file))"
   ]
  },
  {
   "cell_type": "markdown",
   "metadata": {},
   "source": [
    "# Iterate the images_input directory and perform prediction"
   ]
  },
  {
   "cell_type": "code",
   "execution_count": 10,
   "metadata": {},
   "outputs": [
    {
     "name": "stdout",
     "output_type": "stream",
     "text": [
      "['car_person.jpg', 'market.jpg']\n"
     ]
    }
   ],
   "source": [
    "for dirpath, dirnames, filenames in os.walk('images_input'):\n",
    "    print(filenames)"
   ]
  },
  {
   "cell_type": "code",
   "execution_count": 11,
   "metadata": {},
   "outputs": [],
   "source": [
    "for img in filenames:\n",
    "    final_boxes,boxes_before_nms_out,image = predict(img)\n",
    "    draw_bounding_box(final_boxes,image,img,'image_files_output')\n",
    "    draw_bounding_box(boxes_before_nms_out,image,img,'image_files_output_before_nms')"
   ]
  }
 ],
 "metadata": {
  "kernelspec": {
   "display_name": "Python 3",
   "language": "python",
   "name": "python3"
  },
  "language_info": {
   "codemirror_mode": {
    "name": "ipython",
    "version": 3
   },
   "file_extension": ".py",
   "mimetype": "text/x-python",
   "name": "python",
   "nbconvert_exporter": "python",
   "pygments_lexer": "ipython3",
   "version": "3.6.5"
  }
 },
 "nbformat": 4,
 "nbformat_minor": 2
}
